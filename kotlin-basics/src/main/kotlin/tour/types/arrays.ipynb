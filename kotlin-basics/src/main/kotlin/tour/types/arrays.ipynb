{
 "cells": [
  {
   "cell_type": "code",
   "execution_count": 1,
   "metadata": {
    "collapsed": true,
    "ExecuteTime": {
     "end_time": "2023-11-20T15:03:14.509236Z",
     "start_time": "2023-11-20T15:03:14.332142Z"
    }
   },
   "outputs": [],
   "source": [
    "/** Arrays **/\n",
    "var someStringArray = arrayOf(\"one\", \"two\", \"three\")\n",
    "someStringArray += \"four\"\n",
    "\n",
    "var someNumberArray = arrayOf(1, 2, 3)"
   ]
  },
  {
   "cell_type": "code",
   "execution_count": 2,
   "outputs": [
    {
     "name": "stdout",
     "output_type": "stream",
     "text": [
      "one, two, three, four"
     ]
    }
   ],
   "source": [
    "print(someStringArray.joinToString())"
   ],
   "metadata": {
    "collapsed": false,
    "ExecuteTime": {
     "end_time": "2023-11-20T15:03:14.591359Z",
     "start_time": "2023-11-20T15:03:14.511220Z"
    }
   }
  }
 ],
 "metadata": {
  "kernelspec": {
   "display_name": "Kotlin",
   "language": "kotlin",
   "name": "kotlin"
  },
  "language_info": {
   "name": "kotlin",
   "version": "1.9.0",
   "mimetype": "text/x-kotlin",
   "file_extension": ".kt",
   "pygments_lexer": "kotlin",
   "codemirror_mode": "text/x-kotlin",
   "nbconvert_exporter": ""
  }
 },
 "nbformat": 4,
 "nbformat_minor": 0
}
