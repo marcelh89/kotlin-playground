{
 "cells": [
  {
   "cell_type": "code",
   "execution_count": null,
   "metadata": {
    "collapsed": true
   },
   "outputs": [],
   "source": [
    "/** numbers **/\n",
    "\n",
    "// Bytes from 128 to 127\n",
    "val byteMin = Byte.MIN_VALUE\n",
    "val byteMax = Byte.MAX_VALUE\n",
    "\n",
    "// Short from -32768 to 32767 \n",
    "val shortMin = Short.MIN_VALUE\n",
    "val shortMax = Short.MAX_VALUE\n",
    "\n",
    "// Int\n",
    "val intMin = Int.MIN_VALUE\n",
    "val intMax = Int.MAX_VALUE\n",
    "\n",
    "// Long\n",
    "val longMin = Long.MIN_VALUE\n",
    "val longMax = Long.MAX_VALUE\n",
    "val someLong = 1L\n",
    "\n",
    "// Double\n",
    "val pi = 3.14 // Double\n",
    "val e = 2.7182818284 // Double\n",
    "\n",
    "// Float\n",
    "val eFloat = 2.7182818284f // Float, actual value is 2.7182817 (gets cut from double)\n",
    "\n",
    "// can use underscore for better readability\n",
    "\n",
    "val oneMillion = 1_000_000\n",
    "val creditCardNumber = 1234_5678_9012_3456\n",
    "    "
   ]
  },
  {
   "cell_type": "code",
   "execution_count": null,
   "outputs": [],
   "source": [
    "import kotlin.reflect.typeOf\n",
    "\n",
    "println(\"\"\"${e}: ${e::class.simpleName}\"\"\")\n",
    "println(\"\"\"${eFloat}: ${eFloat::class.simpleName}\"\"\")\n",
    "println(\"\"\"${creditCardNumber}: ${creditCardNumber::class.simpleName}\"\"\")"
   ],
   "metadata": {
    "collapsed": false
   }
  }
 ],
 "metadata": {
  "kernelspec": {
   "display_name": "Kotlin",
   "language": "kotlin",
   "name": "kotlin"
  },
  "language_info": {
   "name": "kotlin",
   "version": "1.9.0",
   "mimetype": "text/x-kotlin",
   "file_extension": ".kt",
   "pygments_lexer": "kotlin",
   "codemirror_mode": "text/x-kotlin",
   "nbconvert_exporter": ""
  }
 },
 "nbformat": 4,
 "nbformat_minor": 0
}
