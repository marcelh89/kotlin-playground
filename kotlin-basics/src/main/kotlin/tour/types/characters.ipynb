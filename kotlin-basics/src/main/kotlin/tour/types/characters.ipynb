{
 "cells": [
  {
   "cell_type": "code",
   "execution_count": 1,
   "metadata": {
    "collapsed": true,
    "ExecuteTime": {
     "end_time": "2023-11-20T14:58:33.370946Z",
     "start_time": "2023-11-20T14:58:33.262225Z"
    }
   },
   "outputs": [],
   "source": [
    "/** characters **/\n",
    "val tab = '\\t'\n",
    "val backspace = '\\b'\n",
    "val newline = '\\n'\n",
    "val carriageReturn = '\\r'\n",
    "val singleQuotes = '\\''\n",
    "val doubleQuotes = '\\\"'\n",
    "val backslash = '\\\\'\n",
    "val dollar = '\\$'\n",
    "\n",
    "\n",
    "val charTest = \"\"\"Tabbed: ${tab}after tab to use a backlash ${backslash} or $newline after newline \"\"\""
   ]
  },
  {
   "cell_type": "code",
   "execution_count": 2,
   "outputs": [
    {
     "name": "stdout",
     "output_type": "stream",
     "text": [
      "Tabbed: \tafter tab to use a backlash \\ or \n",
      " after newline "
     ]
    }
   ],
   "source": [
    "print(charTest)\n"
   ],
   "metadata": {
    "collapsed": false,
    "ExecuteTime": {
     "end_time": "2023-11-20T14:58:33.442827Z",
     "start_time": "2023-11-20T14:58:33.371985Z"
    }
   }
  }
 ],
 "metadata": {
  "kernelspec": {
   "display_name": "Kotlin",
   "language": "kotlin",
   "name": "kotlin"
  },
  "language_info": {
   "name": "kotlin",
   "version": "1.9.0",
   "mimetype": "text/x-kotlin",
   "file_extension": ".kt",
   "pygments_lexer": "kotlin",
   "codemirror_mode": "text/x-kotlin",
   "nbconvert_exporter": ""
  }
 },
 "nbformat": 4,
 "nbformat_minor": 0
}
