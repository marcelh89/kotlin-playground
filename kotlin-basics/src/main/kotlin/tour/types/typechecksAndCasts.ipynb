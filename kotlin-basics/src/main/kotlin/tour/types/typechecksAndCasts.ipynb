{
 "cells": [
  {
   "cell_type": "code",
   "execution_count": 23,
   "metadata": {
    "collapsed": true,
    "ExecuteTime": {
     "end_time": "2023-11-20T15:23:19.500006Z",
     "start_time": "2023-11-20T15:23:19.441594Z"
    }
   },
   "outputs": [
    {
     "name": "stdout",
     "output_type": "stream",
     "text": [
      "check: truehey!\n",
      "2..9\n"
     ]
    }
   ],
   "source": [
    "// is and !is operator\n",
    "\n",
    "var test = \"Hello\"\n",
    "var check: Boolean = if (test is String) {\n",
    "    true\n",
    "} else {\n",
    "    false\n",
    "}\n",
    "print(\"\"\"check: ${check}\"\"\")\n",
    "\n",
    "\n",
    "// smart cast type\n",
    "fun smartcast(x: Any): String {\n",
    "    if(x is String){\n",
    "        return x.lowercase()\n",
    "    } else if (x is Int) {\n",
    "        return \"\"\"${x.rangeUntil(10)}\"\"\"\n",
    "    }\n",
    "    return x.toString()\n",
    "}\n",
    "\n",
    "println(smartcast(\"Hey!\"))\n",
    "println(smartcast(2))\n"
   ]
  },
  {
   "cell_type": "code",
   "execution_count": 24,
   "outputs": [],
   "source": [
    "\n"
   ],
   "metadata": {
    "collapsed": false,
    "ExecuteTime": {
     "end_time": "2023-11-20T15:23:19.504259Z",
     "start_time": "2023-11-20T15:23:19.499767Z"
    }
   }
  }
 ],
 "metadata": {
  "kernelspec": {
   "display_name": "Kotlin",
   "language": "kotlin",
   "name": "kotlin"
  },
  "language_info": {
   "name": "kotlin",
   "version": "1.9.0",
   "mimetype": "text/x-kotlin",
   "file_extension": ".kt",
   "pygments_lexer": "kotlin",
   "codemirror_mode": "text/x-kotlin",
   "nbconvert_exporter": ""
  }
 },
 "nbformat": 4,
 "nbformat_minor": 0
}
