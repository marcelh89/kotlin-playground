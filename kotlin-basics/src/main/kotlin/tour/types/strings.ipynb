{
 "cells": [
  {
   "cell_type": "code",
   "execution_count": 3,
   "metadata": {
    "collapsed": true,
    "ExecuteTime": {
     "end_time": "2023-11-20T15:03:54.000596Z",
     "start_time": "2023-11-20T15:03:53.965530Z"
    }
   },
   "outputs": [],
   "source": [
    "/** Strings **/\n",
    "val randomStr = \"Hello World\"\n",
    "val multiLineString = \"\"\"\n",
    "   Hello,\n",
    "World\n",
    "\"\"\""
   ]
  },
  {
   "cell_type": "code",
   "execution_count": 4,
   "outputs": [
    {
     "name": "stdout",
     "output_type": "stream",
     "text": [
      "   Hello,\n",
      "World\n",
      "Hello,\n",
      "World\n"
     ]
    }
   ],
   "source": [
    "println(multiLineString.trimMargin()) // remove leading whitespaces in a multiline string\n",
    "println(multiLineString.trim()) // remove all whitespaces"
   ],
   "metadata": {
    "collapsed": false,
    "ExecuteTime": {
     "end_time": "2023-11-20T15:03:54.049173Z",
     "start_time": "2023-11-20T15:03:54.002066Z"
    }
   }
  }
 ],
 "metadata": {
  "kernelspec": {
   "display_name": "Kotlin",
   "language": "kotlin",
   "name": "kotlin"
  },
  "language_info": {
   "name": "kotlin",
   "version": "1.9.0",
   "mimetype": "text/x-kotlin",
   "file_extension": ".kt",
   "pygments_lexer": "kotlin",
   "codemirror_mode": "text/x-kotlin",
   "nbconvert_exporter": ""
  }
 },
 "nbformat": 4,
 "nbformat_minor": 0
}
