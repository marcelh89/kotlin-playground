{
 "cells": [
  {
   "cell_type": "code",
   "execution_count": 1,
   "metadata": {
    "collapsed": true,
    "ExecuteTime": {
     "end_time": "2023-11-20T15:05:18.004349Z",
     "start_time": "2023-11-20T15:05:17.919047Z"
    }
   },
   "outputs": [],
   "source": [
    "/** boolean **/\n",
    "val myTrue1: Boolean = true // Boolean\n",
    "val myTrue2: Boolean? = null // can only be null with the ? addition\n",
    "val myTrue3 = true // Boolean\n",
    "\n",
    "val myFalse = false\n",
    "\n",
    "val xor = myTrue1 || myFalse // logical OR\n",
    "val and = myTrue1 && myTrue3 // logical AND\n",
    "val not = !myTrue1 // logical NOT"
   ]
  },
  {
   "cell_type": "code",
   "execution_count": 2,
   "outputs": [
    {
     "name": "stdout",
     "output_type": "stream",
     "text": [
      "true: Boolean\n",
      "true: Boolean\n"
     ]
    }
   ],
   "source": [
    "println(\"\"\"${myTrue1}: ${myTrue1::class.simpleName}\"\"\")\n",
    "println(\"\"\"${myTrue3}: ${myTrue3::class.simpleName}\"\"\")"
   ],
   "metadata": {
    "collapsed": false,
    "ExecuteTime": {
     "end_time": "2023-11-20T15:05:18.123444Z",
     "start_time": "2023-11-20T15:05:18.006092Z"
    }
   }
  }
 ],
 "metadata": {
  "kernelspec": {
   "display_name": "Kotlin",
   "language": "kotlin",
   "name": "kotlin"
  },
  "language_info": {
   "name": "kotlin",
   "version": "1.9.0",
   "mimetype": "text/x-kotlin",
   "file_extension": ".kt",
   "pygments_lexer": "kotlin",
   "codemirror_mode": "text/x-kotlin",
   "nbconvert_exporter": ""
  }
 },
 "nbformat": 4,
 "nbformat_minor": 0
}
