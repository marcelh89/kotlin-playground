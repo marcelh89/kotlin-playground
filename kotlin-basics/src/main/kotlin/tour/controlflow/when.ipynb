{
 "cells": [
  {
   "cell_type": "code",
   "execution_count": 83,
   "metadata": {
    "collapsed": true,
    "ExecuteTime": {
     "end_time": "2023-11-20T16:10:05.406233Z",
     "start_time": "2023-11-20T16:10:05.353457Z"
    }
   },
   "outputs": [
    {
     "name": "stdout",
     "output_type": "stream",
     "text": [
      "randomNumber is neither 1 nor 2 but 3\n",
      "RED"
     ]
    }
   ],
   "source": [
    "import kotlin.random.Random\n",
    "\n",
    "val randomNumber = (0..3).random()\n",
    "when (randomNumber) {\n",
    "    1 -> println(\"randomNumber is 1\")\n",
    "    2 -> println(\"randomNumber is 2\")\n",
    "    else -> {\n",
    "        println(\"randomNumber is neither 1 nor 2 but 3\")\n",
    "    }\n",
    "}\n",
    "\n",
    "// from enum\n",
    "enum class Bit {\n",
    "    ZERO, ONE\n",
    "}\n",
    "\n",
    "enum class Color {\n",
    "    RED, GREEN, BLUE, BLACK\n",
    "}\n",
    "\n",
    "fun getColor(): Color {\n",
    "    var rand = (1..3).random()\n",
    "    return when (rand) {\n",
    "        1 -> Color.RED\n",
    "        2 -> Color.GREEN\n",
    "        3 -> Color.BLUE\n",
    "        else -> Color.BLACK\n",
    "    }\n",
    "}\n",
    "\n",
    "when (getColor()) {\n",
    "    Color.RED -> print(\"RED\")\n",
    "    Color.GREEN -> print(\"GREEN\")\n",
    "    Color.BLUE -> print(\"BLUE\")\n",
    "    else -> print(\"BLACK\")\n",
    "\n",
    "}\n",
    "\n",
    "\n"
   ]
  },
  {
   "cell_type": "code",
   "execution_count": 84,
   "outputs": [],
   "source": [],
   "metadata": {
    "collapsed": false,
    "ExecuteTime": {
     "end_time": "2023-11-20T16:10:05.407912Z",
     "start_time": "2023-11-20T16:10:05.405901Z"
    }
   }
  }
 ],
 "metadata": {
  "kernelspec": {
   "display_name": "Kotlin",
   "language": "kotlin",
   "name": "kotlin"
  },
  "language_info": {
   "name": "kotlin",
   "version": "1.9.0",
   "mimetype": "text/x-kotlin",
   "file_extension": ".kt",
   "pygments_lexer": "kotlin",
   "codemirror_mode": "text/x-kotlin",
   "nbconvert_exporter": ""
  }
 },
 "nbformat": 4,
 "nbformat_minor": 0
}
