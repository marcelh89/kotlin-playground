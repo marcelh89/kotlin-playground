{
 "cells": [
  {
   "cell_type": "code",
   "execution_count": 14,
   "metadata": {
    "collapsed": true,
    "ExecuteTime": {
     "end_time": "2023-11-20T15:42:37.395545Z",
     "start_time": "2023-11-20T15:42:37.341759Z"
    }
   },
   "outputs": [
    {
     "name": "stdout",
     "output_type": "stream",
     "text": [
      "default if\n",
      "short if\n",
      "1\n",
      "randomNumber is 2"
     ]
    }
   ],
   "source": [
    "val one = 1\n",
    "val two = 2\n",
    "val three = 2\n",
    "\n",
    "if (1 < 2) {\n",
    "    println(\"default if\")\n",
    "}\n",
    "\n",
    "if (1 < 2) println(\"short if\")\n",
    "\n",
    "// shortened if-else as expression\n",
    "val check = if (1 < 2) \"one\" else \"two\"\n",
    "\n",
    "\n",
    "val isSmaller = if (one < two) {\n",
    "    one\n",
    "} else {\n",
    "    two\n",
    "}\n",
    "\n",
    "println(isSmaller)\n",
    "\n"
   ]
  }
 ],
 "metadata": {
  "kernelspec": {
   "display_name": "Kotlin",
   "language": "kotlin",
   "name": "kotlin"
  },
  "language_info": {
   "name": "kotlin",
   "version": "1.9.0",
   "mimetype": "text/x-kotlin",
   "file_extension": ".kt",
   "pygments_lexer": "kotlin",
   "codemirror_mode": "text/x-kotlin",
   "nbconvert_exporter": ""
  }
 },
 "nbformat": 4,
 "nbformat_minor": 0
}
